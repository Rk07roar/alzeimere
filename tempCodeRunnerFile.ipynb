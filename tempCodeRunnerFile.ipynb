
import matplotlib.pyplot as plt
import seaborn as sns
import numpy as np
import pandas as pd

# Sample data (replace with your actual evaluation metrics)
models = ['CNN', 'Logistic Regression', 'Random Forest', 'Gradient Boosting', 'RNN (LSTM)']
accuracy = [0.88, 0.83, 0.83, 0.93, 0.68]  # Example accuracy values (replace with your actual values)
precision = [0.84, 0.78, 0.78, 0.96, 0.60]
recall = [0.82, 0.71, 0.71, 0.83, 0.33]
f1_score = [0.83, 0.74, 0.74, 0.89, 0.42]


# Create a DataFrame for easier plotting
data = {
    'Model': models,
    'Accuracy': accuracy,
    'Precision': precision,
    'Recall': recall,
    'F1-Score': f1_score,
}

df = pd.DataFrame(data)

# Melt the DataFrame for easier plotting with seaborn
df_melted = df.melt(id_vars='Model', var_name='Metric', value_name='Score')


# Plot the comparison using a bar plot with seaborn
plt.figure(figsize=(12, 6))
sns.barplot(x='Model', y='Score', hue='Metric', data=df_melted, palette='viridis')
plt.title('Model Performance Comparison')
plt.xlabel('Model')
plt.ylabel('Score')
plt.legend(title='Metrics')
plt.xticks(rotation=45, ha='right')
plt.show()


# Individual plots for each metric
plt.figure(figsize=(10, 8))

plt.subplot(2, 2, 1)
sns.barplot(x='Model', y='Accuracy', data=df, palette='viridis')
plt.title('Accuracy Comparison')
plt.ylabel('Accuracy')
for i, v in enumerate(df['Accuracy']):
  plt.text(i, v + 0.005, str(round(v, 2)), ha='center')


plt.subplot(2, 2, 2)
sns.barplot(x='Model', y='Precision', data=df, palette='viridis')
plt.title('Precision Comparison')
plt.ylabel('Precision')
for i, v in enumerate(df['Precision']):
  plt.text(i, v + 0.005, str(round(v, 2)), ha='center')

plt.subplot(2, 2, 3)
sns.barplot(x='Model', y='Recall', data=df, palette='viridis')
plt.title('Recall Comparison')
plt.ylabel('Recall')
for i, v in enumerate(df['Recall']):
  plt.text(i, v + 0.005, str(round(v, 2)), ha='center')

plt.subplot(2, 2, 4)
sns.barplot(x='Model', y='F1-Score', data=df, palette='viridis')
plt.title('F1-Score Comparison')
plt.ylabel('F1-Score')
for i, v in enumerate(df['F1-Score']):
  plt.text(i, v + 0.005, str(round(v, 2)), ha='center')

plt.tight_layout()
plt.show()

# Print the actual accuracy data
print("Model Accuracy:")
for model, accuracy_score in zip(models, accuracy):
  print(f"{model}: {accuracy_score:.2f}")